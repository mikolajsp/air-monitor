{
 "cells": [
  {
   "cell_type": "code",
   "execution_count": 1,
   "id": "fd3c0c31",
   "metadata": {},
   "outputs": [],
   "source": [
    "import pyspark\n",
    "from pyspark.sql import SparkSession\n",
    "from pyspark.sql import Row\n",
    "appName= \"hive_pyspark\"\n",
    "master= \"local\""
   ]
  },
  {
   "cell_type": "code",
   "execution_count": 2,
   "id": "3606dc41",
   "metadata": {},
   "outputs": [
    {
     "name": "stderr",
     "output_type": "stream",
     "text": [
      "23/01/04 14:45:17 WARN util.Utils: Your hostname, node1 resolves to a loopback address: 127.0.0.1; using 10.0.2.15 instead (on interface enp0s3)\n",
      "23/01/04 14:45:17 WARN util.Utils: Set SPARK_LOCAL_IP if you need to bind to another address\n",
      "23/01/04 14:45:18 WARN util.NativeCodeLoader: Unable to load native-hadoop library for your platform... using builtin-java classes where applicable\n",
      "Setting default log level to \"WARN\".\n",
      "To adjust logging level use sc.setLogLevel(newLevel). For SparkR, use setLogLevel(newLevel).\n"
     ]
    }
   ],
   "source": [
    "spark = SparkSession.builder.appName(appName).enableHiveSupport().getOrCreate()"
   ]
  },
  {
   "cell_type": "code",
   "execution_count": 4,
   "id": "75bf3213",
   "metadata": {},
   "outputs": [
    {
     "name": "stdout",
     "output_type": "stream",
     "text": [
      "+--------+--------------+-----------+\n",
      "|database|     tableName|isTemporary|\n",
      "+--------+--------------+-----------+\n",
      "| default|aqicn_readings|      false|\n",
      "| default|     employees|      false|\n",
      "| default|      salaries|      false|\n",
      "| default|          wifi|      false|\n",
      "+--------+--------------+-----------+\n",
      "\n"
     ]
    }
   ],
   "source": [
    "df=spark.sql(\"show tables;\")\n",
    "df.show()"
   ]
  },
  {
   "cell_type": "code",
   "execution_count": 5,
   "id": "38d1d3c3",
   "metadata": {},
   "outputs": [
    {
     "name": "stderr",
     "output_type": "stream",
     "text": [
      "                                                                                \r"
     ]
    },
    {
     "name": "stdout",
     "output_type": "stream",
     "text": [
      "+----------+--------------------+--------------+--------------+--------------------+-------------------+---+----+----+\n",
      "|station_id|        station_name|      latitude|     longitude|            location|           datetime|aqi|pm10|pm25|\n",
      "+----------+--------------------+--------------+--------------+--------------------+-------------------+---+----+----+\n",
      "|    239923|               Rybna|        52.156|        20.942|Rybna, Załuski, W...|2023-01-04 13:19:30| 62|  37|  62|\n",
      "|     96421| Jana Kossakowskiego|        52.208|        21.192|Jana Kossakowskie...|2023-01-04 13:19:51| 54|  24|  54|\n",
      "|    230809|         Radzymińska|        52.258|        21.052|Radzymińska, Szmu...|2023-01-04 13:19:41| 54|  29|  54|\n",
      "|    250840|     Edwarda Wittiga|        52.314|        20.962|Edwarda Wittiga, ...|2023-01-03 14:30:16| 13|   5|  13|\n",
      "|    112837|Pułkownika Mieczy...|        52.268|        20.944|Pułkownika Mieczy...|2023-01-03 14:28:05|  9|   4|   9|\n",
      "|     86788|           Sztygarów|        52.182|        21.206|Sztygarów, Radość...|2023-01-03 14:30:49| 12|   6|  12|\n",
      "|    174391|            Sęczkowa|         52.21|        21.112|Sęczkowa, Las, Wa...|2023-01-03 14:11:36|  7|   4|   7|\n",
      "|     75943|            Liwiecka|        52.242|        21.118|Liwiecka, Gocławe...|2023-01-03 14:13:51|  7|   4|   7|\n",
      "|     66979| Powstańców Śląskich|        52.222|        20.916|Powstańców Śląski...|2023-01-03 14:24:38| 10|   5|  10|\n",
      "|     64396|    Ursynów Zachodni|        52.152|        21.032|Szkoła Podstawowa...|2023-01-03 14:28:31| 12|   4|  12|\n",
      "|     93862| Jana Piekałkiewicza|52.19380433137|21.05125039816|Jana Piekałkiewic...|2023-01-03 14:30:22| 10|   5|  10|\n",
      "|     65755|        Biały Kamień|        52.206|        20.996|Biały Kamień, Gór...|2023-01-03 14:32:17|  5|   7|   5|\n",
      "|     63571|        Białobrzeska|         52.22|        20.978|Białobrzeska, Sta...|2023-01-03 14:32:48|  9|   2|   9|\n",
      "|    181183|           Pohulanka|52.27806061104|21.08886569738|Pohulanka, Elsner...|2023-01-04 13:19:45| 53|  18|  53|\n",
      "|    351289|          Majolikowa|   52.32796575|20.95551068533|Majolikowa, Tarch...|2023-01-03 14:20:49|  4|   4|   4|\n",
      "|    206365|Podpułkownika Wac...|        52.252|        20.922|Podpułkownika Wac...|2023-01-03 14:30:37|  6|   3|   6|\n",
      "|    239923|               Rybna|        52.156|        20.942|Rybna, Załuski, W...|2023-01-03 12:52:17|  4|   5|   4|\n",
      "|     64240|           Kaczy Dół|         52.21|        21.174|Kaczy Dół, Między...|2023-01-03 12:53:44|  6|   4|   6|\n",
      "|    361018|          Afrykańska|     52.228411|      21.06932|Afrykańska, Kępa ...|2023-01-03 12:54:28| 66|  26|  66|\n",
      "|    181183|           Pohulanka|52.27806061104|21.08886569738|Pohulanka, Elsner...|2023-01-03 12:36:05|  6|   5|   6|\n",
      "+----------+--------------------+--------------+--------------+--------------------+-------------------+---+----+----+\n",
      "only showing top 20 rows\n",
      "\n"
     ]
    }
   ],
   "source": [
    "df=spark.sql(\"select * from aqicn_readings;\")\n",
    "df.show()"
   ]
  },
  {
   "cell_type": "code",
   "execution_count": 6,
   "id": "3724c209",
   "metadata": {},
   "outputs": [
    {
     "name": "stderr",
     "output_type": "stream",
     "text": [
      "                                                                                \r"
     ]
    },
    {
     "data": {
      "text/plain": [
       "DataFrame[summary: string, station_id: string, station_name: string, latitude: string, longitude: string, location: string, aqi: string, pm10: string, pm25: string]"
      ]
     },
     "execution_count": 6,
     "metadata": {},
     "output_type": "execute_result"
    }
   ],
   "source": [
    "df.describe()"
   ]
  },
  {
   "cell_type": "code",
   "execution_count": 7,
   "id": "f69dca84",
   "metadata": {},
   "outputs": [
    {
     "name": "stdout",
     "output_type": "stream",
     "text": [
      "-RECORD 0----------------------------\n",
      " station_id   | 239923               \n",
      " station_name | Rybna                \n",
      " latitude     | 52.156               \n",
      " longitude    | 20.942               \n",
      " location     | Rybna, Załuski, W... \n",
      " datetime     | 2023-01-04 13:19:30  \n",
      " aqi          | 62                   \n",
      " pm10         | 37                   \n",
      " pm25         | 62                   \n",
      "only showing top 1 row\n",
      "\n"
     ]
    }
   ],
   "source": [
    "df.show(1, vertical=True)"
   ]
  },
  {
   "cell_type": "code",
   "execution_count": 12,
   "id": "5955ca44",
   "metadata": {},
   "outputs": [
    {
     "name": "stderr",
     "output_type": "stream",
     "text": [
      "                                                                                \r"
     ]
    },
    {
     "data": {
      "text/plain": [
       "1913"
      ]
     },
     "execution_count": 12,
     "metadata": {},
     "output_type": "execute_result"
    }
   ],
   "source": [
    "df.count()"
   ]
  },
  {
   "cell_type": "code",
   "execution_count": 13,
   "id": "8e88b091",
   "metadata": {},
   "outputs": [
    {
     "name": "stderr",
     "output_type": "stream",
     "text": [
      "                                                                                \r"
     ]
    },
    {
     "data": {
      "text/plain": [
       "888"
      ]
     },
     "execution_count": 13,
     "metadata": {},
     "output_type": "execute_result"
    }
   ],
   "source": [
    "df.dropDuplicates(['station_id', 'datetime']).count()"
   ]
  },
  {
   "cell_type": "code",
   "execution_count": null,
   "id": "2961813d",
   "metadata": {},
   "outputs": [],
   "source": []
  }
 ],
 "metadata": {
  "kernelspec": {
   "display_name": "Python 3 (ipykernel)",
   "language": "python",
   "name": "python3"
  },
  "language_info": {
   "codemirror_mode": {
    "name": "ipython",
    "version": 3
   },
   "file_extension": ".py",
   "mimetype": "text/x-python",
   "name": "python",
   "nbconvert_exporter": "python",
   "pygments_lexer": "ipython3",
   "version": "3.9.1"
  }
 },
 "nbformat": 4,
 "nbformat_minor": 5
}
