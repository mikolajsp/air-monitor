{
 "cells": [
  {
   "cell_type": "code",
   "execution_count": 1,
   "metadata": {},
   "outputs": [],
   "source": [
    "import pyspark"
   ]
  },
  {
   "cell_type": "code",
   "execution_count": 2,
   "metadata": {},
   "outputs": [],
   "source": [
    "import findspark\n",
    "findspark.init()"
   ]
  },
  {
   "cell_type": "code",
   "execution_count": 3,
   "metadata": {},
   "outputs": [
    {
     "data": {
      "text/plain": [
       "4"
      ]
     },
     "execution_count": 3,
     "metadata": {},
     "output_type": "execute_result"
    }
   ],
   "source": [
    "2+2"
   ]
  },
  {
   "cell_type": "code",
   "execution_count": 4,
   "metadata": {},
   "outputs": [
    {
     "name": "stdout",
     "output_type": "stream",
     "text": [
      ":: loading settings :: url = jar:file:/usr/local/spark-3.1.2-bin-hadoop2.7/jars/ivy-2.4.0.jar!/org/apache/ivy/core/settings/ivysettings.xml\n"
     ]
    },
    {
     "name": "stderr",
     "output_type": "stream",
     "text": [
      "Ivy Default Cache set to: /home/vagrant/.ivy2/cache\n",
      "The jars for the packages stored in: /home/vagrant/.ivy2/jars\n",
      "org.apache.spark#spark-avro_2.12 added as a dependency\n",
      ":: resolving dependencies :: org.apache.spark#spark-submit-parent-841bc6c2-402e-431a-adba-153bf9668d9a;1.0\n",
      "\tconfs: [default]\n",
      "\tfound org.apache.spark#spark-avro_2.12;3.1.2 in central\n",
      "\tfound org.spark-project.spark#unused;1.0.0 in central\n",
      ":: resolution report :: resolve 694ms :: artifacts dl 18ms\n",
      "\t:: modules in use:\n",
      "\torg.apache.spark#spark-avro_2.12;3.1.2 from central in [default]\n",
      "\torg.spark-project.spark#unused;1.0.0 from central in [default]\n",
      "\t---------------------------------------------------------------------\n",
      "\t|                  |            modules            ||   artifacts   |\n",
      "\t|       conf       | number| search|dwnlded|evicted|| number|dwnlded|\n",
      "\t---------------------------------------------------------------------\n",
      "\t|      default     |   2   |   0   |   0   |   0   ||   2   |   0   |\n",
      "\t---------------------------------------------------------------------\n",
      ":: retrieving :: org.apache.spark#spark-submit-parent-841bc6c2-402e-431a-adba-153bf9668d9a\n",
      "\tconfs: [default]\n",
      "\t0 artifacts copied, 2 already retrieved (0kB/6ms)\n",
      "23/01/03 14:08:23 WARN util.NativeCodeLoader: Unable to load native-hadoop library for your platform... using builtin-java classes where applicable\n",
      "Setting default log level to \"WARN\".\n",
      "To adjust logging level use sc.setLogLevel(newLevel). For SparkR, use setLogLevel(newLevel).\n"
     ]
    }
   ],
   "source": [
    "from pyspark.sql import SparkSession\n",
    "\n",
    "# Create Spark session\n",
    "spark = SparkSession.builder.appName(\"debug_nifi\").config(\"spark.jars.packages\",\"org.apache.spark:spark-avro_2.12:3.1.2\").getOrCreate()"
   ]
  },
  {
   "cell_type": "code",
   "execution_count": 5,
   "metadata": {},
   "outputs": [],
   "source": [
    "df = spark.read.format('avro').load(\n",
    "    'hdfs://localhost:8020/user/project/data/station-list-2023-01-03-12-05-50-875.avro')"
   ]
  },
  {
   "cell_type": "code",
   "execution_count": 9,
   "metadata": {},
   "outputs": [],
   "source": [
    "from pyspark.sql.avro.functions import from_avro, to_avro"
   ]
  },
  {
   "cell_type": "code",
   "execution_count": null,
   "metadata": {},
   "outputs": [],
   "source": [
    "df.select(from)"
   ]
  },
  {
   "cell_type": "code",
   "execution_count": 8,
   "metadata": {},
   "outputs": [
    {
     "name": "stdout",
     "output_type": "stream",
     "text": [
      "-RECORD 0--------------------\n",
      " data | {4, -239923, [{ht... \n",
      "-RECORD 1--------------------\n",
      " data | {7, -96421, [{htt... \n",
      "-RECORD 2--------------------\n",
      " data | {8, -164200, [{ht... \n",
      "-RECORD 3--------------------\n",
      " data | {6, -230809, [{ht... \n",
      "-RECORD 4--------------------\n",
      " data | {6, -230809, [{ht... \n",
      "-RECORD 5--------------------\n",
      " data | {7, -75943, [{htt... \n",
      "-RECORD 6--------------------\n",
      " data | {11, -364249, [{h... \n",
      "-RECORD 7--------------------\n",
      " data | {11, -66979, [{ht... \n",
      "-RECORD 8--------------------\n",
      " data | {8, -102487, [{ht... \n",
      "-RECORD 9--------------------\n",
      " data | {8, -64396, [{htt... \n",
      "-RECORD 10-------------------\n",
      " data | {8, -76162, [{htt... \n",
      "-RECORD 11-------------------\n",
      " data | {7, -93862, [{htt... \n",
      "-RECORD 12-------------------\n",
      " data | {21, -67351, [{ht... \n",
      "-RECORD 13-------------------\n",
      " data | {5, -65755, [{htt... \n",
      "-RECORD 14-------------------\n",
      " data | {6, -96418, [{htt... \n",
      "-RECORD 15-------------------\n",
      " data | {9, -63571, [{htt... \n",
      "-RECORD 16-------------------\n",
      " data | {6, -181183, [{ht... \n",
      "-RECORD 17-------------------\n",
      " data | {3, -351289, [{ht... \n",
      "-RECORD 18-------------------\n",
      " data | {8, -191677, [{ht... \n",
      "-RECORD 19-------------------\n",
      " data | {6, -206365, [{ht... \n",
      "only showing top 20 rows\n",
      "\n"
     ]
    }
   ],
   "source": [
    "df.select(\"data\").show(vertical=True)"
   ]
  },
  {
   "cell_type": "code",
   "execution_count": null,
   "metadata": {},
   "outputs": [],
   "source": []
  }
 ],
 "metadata": {
  "kernelspec": {
   "display_name": "Python 3 (ipykernel)",
   "language": "python",
   "name": "python3"
  },
  "language_info": {
   "codemirror_mode": {
    "name": "ipython",
    "version": 3
   },
   "file_extension": ".py",
   "mimetype": "text/x-python",
   "name": "python",
   "nbconvert_exporter": "python",
   "pygments_lexer": "ipython3",
   "version": "3.9.1"
  },
  "vscode": {
   "interpreter": {
    "hash": "36cf16204b8548560b1c020c4e8fb5b57f0e4c58016f52f2d4be01e192833930"
   }
  }
 },
 "nbformat": 4,
 "nbformat_minor": 2
}
